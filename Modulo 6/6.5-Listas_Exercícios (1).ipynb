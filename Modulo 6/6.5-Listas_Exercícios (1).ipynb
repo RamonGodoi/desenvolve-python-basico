{
 "cells": [
  {
   "cell_type": "markdown",
   "id": "0d5035b5",
   "metadata": {},
   "source": [
    "# Listas\n",
    "\n",
    "## Aulas 6.1 a 6.5 "
   ]
  },
  {
   "cell_type": "markdown",
   "id": "0bdece85",
   "metadata": {},
   "source": [
    "### Q1. \n",
    "\n",
    "Usando a função embutida ```map``` e criando uma função ```lambda```, transforme uma lista com os raios de múltiplas circunferências em uma nova lista com as respectivas áreas. O cálculo de cada área é dado por: ```pi*(raio**2)```\n",
    "- Use a constante pi da biblioteca math \n",
    "- Arredonde o resultado para 2 casas decimais\n"
   ]
  },
  {
   "cell_type": "code",
   "execution_count": 1,
   "id": "0a258eba",
   "metadata": {},
   "outputs": [
    {
     "name": "stdout",
     "output_type": "stream",
     "text": [
      "Áreas das circunferências:\n",
      "7.07\n",
      "2.01\n",
      "16.62\n",
      "78.54\n"
     ]
    }
   ],
   "source": [
    "import math\n",
    "raios=[1.5, 0.8, 2.3, 5.0]\n",
    "areas=list(map(lambda raio: round(math.pi * (raio ** 2), 2), raios))\n",
    "print(\"Áreas das circunferências:\")\n",
    "for area in areas:\n",
    "    print(area)"
   ]
  },
  {
   "cell_type": "markdown",
   "id": "649a5082",
   "metadata": {},
   "source": [
    "### Q2. \n",
    "\n",
    "Crie uma função customizada e aplique a função embutida ```filter``` para operar em uma lista de listas contendo os lados de múltiplos triângulos. Construa uma nova lista contendo apenas os triângulos equiláteros, ou seja, com os três lados iguais.\n"
   ]
  },
  {
   "cell_type": "code",
   "execution_count": 1,
   "id": "47cb0573",
   "metadata": {},
   "outputs": [
    {
     "name": "stdout",
     "output_type": "stream",
     "text": [
      "Triângulos equiláteros:\n",
      "[2, 2, 2]\n",
      "[4, 4, 4]\n"
     ]
    }
   ],
   "source": [
    "def testa_equilatero(lados):\n",
    "    return lados[0] == lados[1] == lados[2]\n",
    "triangulos=[[2,2,2], [3,4,5], [3,2,2],[4,4,4]]\n",
    "triangulos_equilateros = list(filter(testa_equilatero, triangulos))\n",
    "print(\"Triângulos equiláteros:\")\n",
    "for tri in triangulos_equilateros:\n",
    "    print(tri)\n"
   ]
  },
  {
   "cell_type": "markdown",
   "id": "bb62d219",
   "metadata": {},
   "source": [
    "### Q3. \n",
    "Crie uma função chamada ```ordena_por_comprimento``` que aceite uma lista de strings e a ordene com base no comprimento das strings, do menor para o maior. Utilize a função ```sorte``` e uma expressão ```lambda```."
   ]
  },
  {
   "cell_type": "code",
   "execution_count": 2,
   "id": "add41556",
   "metadata": {},
   "outputs": [
    {
     "name": "stdout",
     "output_type": "stream",
     "text": [
      "['Sol', 'Joao', 'Jose', 'Luna', 'Enzo', 'Maria', 'Bento', 'Gabriela', 'Fernanda']\n"
     ]
    }
   ],
   "source": [
    "def ordena_por_comprimento(lista_strings):\n",
    "    lista_strings.sort(key=lambda x: len(x))\n",
    "nomes = [\"Joao\", \"Maria\", \"Jose\", \"Gabriela\", \"Sol\", \"Luna\", \"Bento\", \"Enzo\", \"Fernanda\"]\n",
    "ordena_por_comprimento(nomes)\n",
    "print(nomes)"
   ]
  },
  {
   "cell_type": "markdown",
   "id": "8710b1a7",
   "metadata": {},
   "source": [
    "### Q4.\n",
    "\n",
    "Crie uma lista de listas (uma matriz de 2 dimensões) de tamanho $n \\times n$, com $n$ dado pelo usuário. Cada elemento da matriz deve ser o produto dos índices da linha pela coluna.\n",
    "\n",
    "Exemplo:\n",
    "```\n",
    "Digite n: 4\n",
    "Matriz:\n",
    "[[0, 0, 0, 0],\n",
    " [0, 1, 2, 3],\n",
    " [0, 2, 4, 6],\n",
    " [0, 3, 6, 9]]\n",
    "```"
   ]
  },
  {
   "cell_type": "code",
   "execution_count": 11,
   "id": "0b7ee921",
   "metadata": {},
   "outputs": [
    {
     "name": "stdout",
     "output_type": "stream",
     "text": [
      "Matriz:\n",
      "[0, 0, 0, 0]\n",
      "[0, 1, 2, 3]\n",
      "[0, 2, 4, 6]\n",
      "[0, 3, 6, 9]\n"
     ]
    }
   ],
   "source": [
    "def cria_matriz(n):\n",
    "    matriz=[[0] * n for _ in range(n)]\n",
    "    for i in range(n):\n",
    "        for j in range(n):\n",
    "            matriz[i][j] = i * j\n",
    "    return matriz\n",
    "\n",
    "def valor_inteiro(prompt):\n",
    "    while True:\n",
    "        try:\n",
    "            valor=int(input(prompt))\n",
    "            if valor > 0:\n",
    "                return valor\n",
    "            else:\n",
    "                print(\"Digite um valor inteiro positivo.\")\n",
    "        except ValueError:\n",
    "            print(\"Digite um valor inteiro positivo válido.\")\n",
    "\n",
    "if __name__ == \"__main__\":\n",
    "    n=valor_inteiro(\"Digite n: \")\n",
    "    matriz=cria_matriz(n)\n",
    "    print(\"Matriz:\")\n",
    "    for linha in matriz:\n",
    "        print(linha)\n"
   ]
  },
  {
   "cell_type": "markdown",
   "id": "f41781df",
   "metadata": {},
   "source": [
    "### Q5.\n",
    "\n",
    "Dada uma lista de números inteiros, implemente uma função em Python chamada ```pares_unicos``` que encontre e retorne todos os pares únicos de elementos na lista cuja soma seja igual a um determinado valor. Considere que a ordem dos pares não é relevante."
   ]
  },
  {
   "cell_type": "code",
   "execution_count": 14,
   "id": "7a76f765",
   "metadata": {},
   "outputs": [
    {
     "name": "stdout",
     "output_type": "stream",
     "text": [
      "[(4, 6), (3, 7)]\n"
     ]
    }
   ],
   "source": [
    "def pares_unicos(numeros, soma_objetivo):\n",
    "    numeros_vistos={}\n",
    "    pares=[]\n",
    "    for num in numeros:\n",
    "        complemento = soma_objetivo-num\n",
    "        if complemento in numeros_vistos:\n",
    "            pares.append((complemento, num))\n",
    "            del numeros_vistos[complemento]\n",
    "        else:\n",
    "            numeros_vistos[num]=True\n",
    "    return pares\n",
    "nums= [3, 4, 5, 6, 7]\n",
    "soma= 10\n",
    "resultado = pares_unicos(nums, soma)\n",
    "print(resultado)\n"
   ]
  },
  {
   "cell_type": "markdown",
   "id": "87e44893",
   "metadata": {},
   "source": [
    "### Q5.\n",
    "\n",
    "Escreva um programa para encontrar a diferença entre duas listas, incluindo elementos duplicados.\n",
    "\n",
    "Ex:\n",
    "```\n",
    "Listas originais: \n",
    "[1, 1, 2, 3, 3, 4, 4, 5, 6, 7]\n",
    "[1, 1, 2, 4, 5, 6]\n",
    "Diferença entre as listas:\n",
    "[3, 3, 4, 7]\n",
    "```"
   ]
  },
  {
   "cell_type": "code",
   "execution_count": 18,
   "id": "7edc027c",
   "metadata": {},
   "outputs": [
    {
     "name": "stdout",
     "output_type": "stream",
     "text": [
      "Listas originais:\n",
      "[1, 1, 2, 3, 3, 4, 4, 5, 6, 7]\n",
      "[1, 1, 2, 4, 5, 6]\n",
      "Diferença entre as listas:\n",
      "[3, 3, 4, 7]\n"
     ]
    }
   ],
   "source": [
    "from collections import Counter\n",
    "def diferenca_entre_listas(lista1, lista2):\n",
    "    count1=Counter(lista1)\n",
    "    count2=Counter(lista2)\n",
    "    diferenca=[]\n",
    "    for elemento, freq1 in count1.items():\n",
    "        freq2=count2[elemento]\n",
    "        if freq1>freq2:\n",
    "            diferenca.extend([elemento] * (freq1 - freq2))\n",
    "    return diferenca\n",
    "lista1=[1, 1, 2, 3, 3, 4, 4, 5, 6, 7]\n",
    "lista2=[1, 1, 2, 4, 5, 6]\n",
    "resultado = diferenca_entre_listas(lista1, lista2)\n",
    "print(\"Listas originais:\")\n",
    "print(lista1)\n",
    "print(lista2)\n",
    "print(\"Diferença entre as listas:\")\n",
    "print(resultado)"
   ]
  },
  {
   "cell_type": "markdown",
   "id": "f4c4236d",
   "metadata": {},
   "source": [
    "### Q6.\n",
    "\n",
    "Dada uma lista aleatória, escreva um programa que separa os valores em listas menores de acordo com o tamanho solicitado. Caso não seja possível repartir igualmente a lista original, a última sublista deve conter os elementos remanescentes, como indicado no exemplo a seguir.\n",
    "\n",
    "Note que seu programa deve continuar executando em um laço infinito até que o usuário informe o tamanho 0 na entrada solicitada.\n",
    "\n",
    "```\n",
    "Lista original:\n",
    "[12, 45, 23, 67, 78, 90, 45, 32, 100, 76, 38, 62, 73, 29, 83]\n",
    "\n",
    "Tamanho para divisão: 3\n",
    "Subslistas:\n",
    "[[12, 45, 23], [67, 78, 90], [45, 32, 100], [76, 38, 62], [73, 29, 83]]\n",
    "\n",
    "Tamanho para divisão: 4\n",
    "Subslistas: [[12, 45, 23, 67], [78, 90, 45, 32], [100, 76, 38, 62], [73, 29, 83]]\n",
    "\n",
    "Tamanho para divisão: 0\n",
    "```"
   ]
  },
  {
   "cell_type": "code",
   "execution_count": 19,
   "id": "792563de",
   "metadata": {},
   "outputs": [
    {
     "name": "stdout",
     "output_type": "stream",
     "text": [
      "Sublistas:\n",
      "[[86, 37], [71, 83], [98, 55], [53, 49], [60, 95], [61, 95], [83, 46], [12, 78], [1, 56], [24, 14]]\n",
      "\n",
      "Sublistas:\n",
      "[[86, 37, 71, 83, 98], [55, 53, 49, 60, 95], [61, 95, 83, 46, 12], [78, 1, 56, 24, 14]]\n",
      "\n",
      "Sublistas:\n",
      "[[86, 37, 71, 83], [98, 55, 53, 49], [60, 95, 61, 95], [83, 46, 12, 78], [1, 56, 24, 14]]\n",
      "\n",
      "Sublistas:\n",
      "[[86, 37, 71, 83, 98, 55, 53, 49, 60, 95, 61, 95, 83, 46, 12, 78, 1, 56, 24, 14]]\n",
      "\n",
      "Programa encerrado.\n"
     ]
    }
   ],
   "source": [
    "import random\n",
    "lista = [random.randint(1,100) for i in range(20)]\n",
    "\n",
    "def dividir_lista(lista, tamanho_sublista):\n",
    "    if tamanho_sublista <= 0:\n",
    "        return [[]]\n",
    "    sublistas = []\n",
    "    for i in range(0, len(lista), tamanho_sublista):\n",
    "        sublista = lista[i:i + tamanho_sublista]\n",
    "        sublistas.append(sublista)\n",
    "    return sublistas\n",
    "if __name__ == \"__main__\":\n",
    "    while True:\n",
    "        tamanho = int(input(\"Digite o tamanho desejado para as sublistas (0 para sair): \"))\n",
    "        if tamanho == 0:\n",
    "            print(\"Programa encerrado.\")\n",
    "            break\n",
    "        sublistas= dividir_lista(lista, tamanho)\n",
    "        print(\"Sublistas:\")\n",
    "        print(sublistas)\n",
    "        print()\n"
   ]
  },
  {
   "cell_type": "markdown",
   "id": "c65be32f",
   "metadata": {},
   "source": [
    "### Q7.\n",
    "\n",
    "Você está desenvolvendo um programa para determinar o vencedor de um jogo da velha. Escreva uma função ```avalia_tabuleiro()``` que recebe uma lista representando o estado atual do tabuleiro e determina se há um vencedor. \n",
    "\n",
    "A lista terá 3 sublistas, cada uma representando uma linha do tabuleiro. Cada elemento das sublistas pode ser 'X', 'O' ou vazio (' ').\n",
    "\n",
    "O programa deve imprimir o vencedor ('X', 'O'), se houver um, ou \"Empate\" se não houver vencedor. Um vencedor é determinado se houver três 'X' ou três 'O' em linha (horizontal, vertical ou diagonal).\n",
    "\n",
    "Exemplo:\n",
    "```python\n",
    "tabuleiro = [\n",
    "    ['X', 'O', 'X'],\n",
    "    [' ', 'X', 'O'],\n",
    "    ['O', ' ', 'O']\n",
    "]\n",
    "```\n",
    "O resultado seria \"Empate\", pois não há um vencedor no exemplo fornecido. \n",
    "\n",
    "Exemplo 2:\n",
    "```python\n",
    "tabuleiro = [\n",
    "    ['O', 'X', 'O'],\n",
    "    ['X', 'O', 'X'],\n",
    "    ['X', ' ', 'O']\n",
    "]\n",
    "```\n",
    "O resultado seria \"O\", pois 'O' venceu na diagonal central."
   ]
  },
  {
   "cell_type": "code",
   "execution_count": 25,
   "id": "720ca24d",
   "metadata": {},
   "outputs": [
    {
     "name": "stdout",
     "output_type": "stream",
     "text": [
      "Vencedor Tabuleiro 1\n",
      "X\n",
      "Vencedor Tabuleiro 2\n",
      "X\n",
      "Vencedor Tabuleiro 3\n",
      "Empate\n",
      "Vencedor Tabuleiro 4\n",
      "O\n",
      "Vencedor Tabuleiro 5\n",
      "Empate\n"
     ]
    }
   ],
   "source": [
    "def avalia_tabuleiro(tabuleiro):\n",
    "    for linha in tabuleiro:\n",
    "        if linha[0] == linha[1] == linha[2] and linha[0] != ' ':\n",
    "            return linha[0]\n",
    "    for coluna in range(3):\n",
    "        if tabuleiro[0][coluna] == tabuleiro[1][coluna] == tabuleiro[2][coluna] and tabuleiro[0][coluna] != ' ':\n",
    "            return tabuleiro[0][coluna]\n",
    "    if tabuleiro[0][0] == tabuleiro[1][1] == tabuleiro[2][2] and tabuleiro[0][0] != ' ':\n",
    "        return tabuleiro[0][0]\n",
    "    if tabuleiro[0][2] == tabuleiro[1][1] == tabuleiro[2][0] and tabuleiro[0][2] != ' ':\n",
    "        return tabuleiro[0][2]\n",
    "    for linha in tabuleiro:\n",
    "        if ' ' in linha:\n",
    "            return \"Empate\"\n",
    "\n",
    "tabuleiro1 = [\n",
    "    ['X', 'O', 'X'],\n",
    "    [' ', 'X', 'O'],\n",
    "    ['O', ' ', 'X']\n",
    "]\n",
    "tabuleiro2 = [\n",
    "    ['X', 'O', 'O'],\n",
    "    ['X', 'X', 'O'],\n",
    "    ['X', 'O', 'X']\n",
    "]\n",
    "tabuleiro3 = [\n",
    "    [' ', ' ', ' '],\n",
    "    ['X', ' ', 'O'],\n",
    "    ['O', 'X', 'X']\n",
    "]\n",
    "tabuleiro4 = [\n",
    "    ['O', 'O', 'O'],\n",
    "    ['X', ' ', 'X'],\n",
    "    ['O', 'X', 'X']\n",
    "]\n",
    "tabuleiro5 = [\n",
    "    ['X', 'X', 'O'],\n",
    "    ['X', ' ', 'O'],\n",
    "    ['O', 'O', 'X']\n",
    "]\n",
    "print(\"Vencedor Tabuleiro 1\")\n",
    "print(avalia_tabuleiro(tabuleiro1))\n",
    "print(\"Vencedor Tabuleiro 2\")\n",
    "print(avalia_tabuleiro(tabuleiro2))\n",
    "print(\"Vencedor Tabuleiro 3\")\n",
    "print(avalia_tabuleiro(tabuleiro3))\n",
    "print(\"Vencedor Tabuleiro 4\")\n",
    "print(avalia_tabuleiro(tabuleiro4))\n",
    "print(\"Vencedor Tabuleiro 5\")\n",
    "print(avalia_tabuleiro(tabuleiro5))"
   ]
  }
 ],
 "metadata": {
  "kernelspec": {
   "display_name": "Python 3 (ipykernel)",
   "language": "python",
   "name": "python3"
  },
  "language_info": {
   "codemirror_mode": {
    "name": "ipython",
    "version": 3
   },
   "file_extension": ".py",
   "mimetype": "text/x-python",
   "name": "python",
   "nbconvert_exporter": "python",
   "pygments_lexer": "ipython3",
   "version": "3.12.4"
  }
 },
 "nbformat": 4,
 "nbformat_minor": 5
}
