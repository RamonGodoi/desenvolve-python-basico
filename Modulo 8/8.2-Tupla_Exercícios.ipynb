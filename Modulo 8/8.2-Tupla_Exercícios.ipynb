{
 "cells": [
  {
   "cell_type": "markdown",
   "id": "0d5035b5",
   "metadata": {},
   "source": [
    "# Tupla\n",
    "\n",
    "## Aula 8.2"
   ]
  },
  {
   "cell_type": "markdown",
   "id": "0bdece85",
   "metadata": {},
   "source": [
    "### Q1. \n",
    "\n",
    "Escreva uma função ```calcula_area_perimetro``` que recebe **apenas um parâmetro** ```dimensoes``` e calcula a área e o perímetro a partir das dimensões dadas. \n",
    "- ```dimensoes``` é uma tupla (largura, comprimento) com as dimensões de um terreno retangular\n",
    "- Sua função deve calcular e retornar as seguintes operações\n",
    "   - $area = largura \\times comprimento$\n",
    "   - $perimetro = 2\\times(largura + comprimento)$\n"
   ]
  },
  {
   "cell_type": "code",
   "execution_count": 2,
   "id": "0a258eba",
   "metadata": {},
   "outputs": [],
   "source": [
    "def calcula_area_perimetro():\n",
    "    largura = float(input(\"Digite a largura do terreno: \"))\n",
    "    comprimento = float(input(\"Digite o comprimento do terreno: \"))\n",
    "    area = largura*comprimento\n",
    "    perimetro = 2*(largura + comprimento)\n",
    "    return area, perimetro\n"
   ]
  },
  {
   "cell_type": "code",
   "execution_count": 3,
   "id": "e1866c04",
   "metadata": {},
   "outputs": [
    {
     "name": "stdout",
     "output_type": "stream",
     "text": [
      "Área do terreno: 35.0 unidades quadradas\n",
      "Perímetro do terreno: 24.0 unidades\n"
     ]
    }
   ],
   "source": [
    "area, perimetro = calcula_area_perimetro()\n",
    "print(f\"Área do terreno: {area} unidades quadradas\")\n",
    "print(f\"Perímetro do terreno: {perimetro} unidades\")\n"
   ]
  },
  {
   "cell_type": "markdown",
   "id": "cbdcb986",
   "metadata": {},
   "source": [
    "### Q2.\n",
    "\n",
    "Dada uma string, imprima todas as vogais que aparecem na string, bem como todos os índices onde elas ocorrem. Para isso, use a função ```enumerate```.\n"
   ]
  },
  {
   "cell_type": "code",
   "execution_count": 4,
   "id": "1f6b1f2d",
   "metadata": {},
   "outputs": [
    {
     "name": "stdout",
     "output_type": "stream",
     "text": [
      "Vogal: O, Índice: 0\n",
      "Vogal: a, Índice: 3\n",
      "Vogal: o, Índice: 5\n",
      "Vogal: o, Índice: 8\n",
      "Vogal: e, Índice: 9\n",
      "Vogal: u, Índice: 10\n",
      "Vogal: a, Índice: 12\n",
      "Vogal: o, Índice: 15\n",
      "Vogal: u, Índice: 16\n",
      "Vogal: a, Índice: 18\n",
      "Vogal: a, Índice: 21\n",
      "Vogal: A, Índice: 23\n",
      "Vogal: i, Índice: 25\n",
      "Vogal: e, Índice: 27\n"
     ]
    }
   ],
   "source": [
    "frase =\"O rato roeu a roupa da Alice\"\n",
    "vogais =\"aeiouAEIOU\"\n",
    "for indice, caractere in enumerate(frase):\n",
    "    if caractere in vogais:\n",
    "        print(f\"Vogal: {caractere}, Índice: {indice}\")\n"
   ]
  },
  {
   "cell_type": "markdown",
   "id": "8d46663f",
   "metadata": {},
   "source": [
    "### Q3.\n",
    "\n",
    "Escreva uma função em Python chamada ```ordenar_tuplas``` que recebe uma lista de tuplas, cada uma contendo o nome de um aluno e sua respectiva média, e retorna uma nova lista ordenada em ordem decrescente de médias."
   ]
  },
  {
   "cell_type": "code",
   "execution_count": 5,
   "id": "469f2e6e",
   "metadata": {},
   "outputs": [],
   "source": [
    "def ordenar_tuplas(lista_de_tuplas):\n",
    "    resultado =sorted(lista_de_tuplas, key=lambda tupla: tupla[1], reverse=True)\n",
    "    return resultado"
   ]
  },
  {
   "cell_type": "code",
   "execution_count": 6,
   "id": "1972c62b",
   "metadata": {},
   "outputs": [
    {
     "name": "stdout",
     "output_type": "stream",
     "text": [
      "[('Charlie', 9.0), ('David', 8.8), ('Alice', 8.5), ('Bob', 7.2)]\n"
     ]
    }
   ],
   "source": [
    "alunos_notas = [('Alice', 8.5), ('Bob', 7.2), ('Charlie', 9.0), ('David', 8.8)]\n",
    "resultado = ordenar_tuplas(alunos_notas)\n",
    "print(resultado)"
   ]
  },
  {
   "cell_type": "markdown",
   "id": "e0268fae",
   "metadata": {},
   "source": [
    "### Q4.\n",
    "\n",
    "Escreva uma função em Python chamada ```comprimir_tuplas``` que recebe uma lista de tuplas, cada uma contendo uma palavra e um número, e retorna uma nova lista de tuplas onde palavras idênticas são agrupadas e seus números são somados.\n",
    "\n"
   ]
  },
  {
   "cell_type": "code",
   "execution_count": 12,
   "id": "30a221f3",
   "metadata": {},
   "outputs": [],
   "source": [
    "def comprimir_tuplas(lista_tuplas):\n",
    "    palavra_soma={}\n",
    "    for palavra, numero in lista_tuplas:\n",
    "        if palavra in palavra_soma:\n",
    "            palavra_soma[palavra] +=numero\n",
    "        else:\n",
    "            palavra_soma[palavra] =numero\n",
    "    lista_comprimida =[(palavra, palavra_soma[palavra]) for palavra in palavra_soma]\n",
    "    \n",
    "    return lista_comprimida"
   ]
  },
  {
   "cell_type": "code",
   "execution_count": 13,
   "id": "80972bac",
   "metadata": {},
   "outputs": [
    {
     "name": "stdout",
     "output_type": "stream",
     "text": [
      "[('maçã', 8), ('banana', 5), ('laranja', 1)]\n"
     ]
    }
   ],
   "source": [
    "tuplas_originais = [('maçã', 3), ('banana', 2), ('maçã', 5), ('laranja', 1), ('banana', 3)]\n",
    "resultado = comprimir_tuplas(tuplas_originais)\n",
    "print(resultado)"
   ]
  },
  {
   "cell_type": "markdown",
   "id": "649a5082",
   "metadata": {},
   "source": [
    "### Q5. \n",
    "\n",
    "- Escreva um script que peça o nome e a idade de todos na fila de uma balada. Crie uma lista de tuplas com os pares ```(nome, idade)``` de cada um. \n",
    "- Em seguida crie e imprima duas tuplas apenas com os nomes, uma com os menores de idade que não poderão entrar, e uma com os maiores de idade (```idade >= 18```). \n",
    "\n"
   ]
  },
  {
   "cell_type": "code",
   "execution_count": 8,
   "id": "47cb0573",
   "metadata": {},
   "outputs": [
    {
     "name": "stdout",
     "output_type": "stream",
     "text": [
      "\n",
      "Lista de pessoas na fila da balada:\n",
      "Nome: ramon, Idade: 22\n",
      "Nome: isis, Idade: 8\n",
      "Nome: renata, Idade: 54\n",
      "Não podem entrar:\n",
      "('isis',)\n",
      "Podem entrar:\n",
      "('ramon', 'renata')\n"
     ]
    }
   ],
   "source": [
    "def main():\n",
    "    fila_balada=[]\n",
    "    num_pessoas =int(input(\"Quantas pessoas estão na fila da balada? \"))\n",
    "    for i in range(1, num_pessoas + 1):\n",
    "        nome =input(f\"Nome da pessoa {i}: \")\n",
    "        idade =int(input(f\"Idade de {nome}: \"))\n",
    "        fila_balada.append((nome, idade))\n",
    "\n",
    "    print(\"\\nLista de pessoas na fila da balada:\")\n",
    "    for pessoa in fila_balada:\n",
    "        print(f\"Nome: {pessoa[0]}, Idade: {pessoa[1]}\")\n",
    "\n",
    "    menores_de_idade=[]\n",
    "    maiores_de_idade=[]\n",
    "    for pessoa in fila_balada:\n",
    "        if pessoa[1] < 18:\n",
    "            menores_de_idade.append(pessoa[0])\n",
    "        else:\n",
    "            maiores_de_idade.append(pessoa[0])\n",
    "\n",
    "    tupla_menores =tuple(menores_de_idade)\n",
    "    tupla_maiores =tuple(maiores_de_idade)\n",
    "    print(\"Não podem entrar:\")\n",
    "    print(tupla_menores)\n",
    "    print(\"Podem entrar:\")\n",
    "    print(tupla_maiores)\n",
    "\n",
    "if __name__ == \"__main__\":\n",
    "    main()\n"
   ]
  }
 ],
 "metadata": {
  "kernelspec": {
   "display_name": "Python 3 (ipykernel)",
   "language": "python",
   "name": "python3"
  },
  "language_info": {
   "codemirror_mode": {
    "name": "ipython",
    "version": 3
   },
   "file_extension": ".py",
   "mimetype": "text/x-python",
   "name": "python",
   "nbconvert_exporter": "python",
   "pygments_lexer": "ipython3",
   "version": "3.12.4"
  }
 },
 "nbformat": 4,
 "nbformat_minor": 5
}
