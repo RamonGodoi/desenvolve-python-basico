{
 "cells": [
  {
   "cell_type": "markdown",
   "id": "0d5035b5",
   "metadata": {},
   "source": [
    "# Set\n",
    "\n",
    "## Aula 8.1"
   ]
  },
  {
   "cell_type": "markdown",
   "id": "0bdece85",
   "metadata": {},
   "source": [
    "### Q1. \n",
    "\n",
    "Dada uma string qualquer, use seu conhecimento de sets para apresentar os caracteres únicos que aparecem na string, ordenados alfabeticamente e sem duplicatas. Preste atenção em duplicatas de maiúsculas e minúsculas.\n"
   ]
  },
  {
   "cell_type": "code",
   "execution_count": 1,
   "id": "0a258eba",
   "metadata": {},
   "outputs": [
    {
     "name": "stdout",
     "output_type": "stream",
     "text": [
      "abdenoprstu\n"
     ]
    }
   ],
   "source": [
    "frase = \"O rato roeu a roupa do Robson\"\n",
    "frase_lower =frase.lower()\n",
    "caracteres_unicos =set(frase_lower)\n",
    "caracteres_unicos.discard(' ')\n",
    "caracteres_ordenados = sorted(caracteres_unicos)\n",
    "resultado=''.join(caracteres_ordenados)\n",
    "print(resultado)\n"
   ]
  },
  {
   "cell_type": "markdown",
   "id": "0856bd56",
   "metadata": {},
   "source": [
    "### Q2\n",
    "\n",
    "Desenvolva uma função em Python chamada ```tem_elementos_comuns()``` que recebe duas listas como parâmetros e retorna True se houver algum elemento comum entre as duas listas, e False caso contrário. Utilize sets para resolver essa tarefa."
   ]
  },
  {
   "cell_type": "code",
   "execution_count": 5,
   "id": "f7ab6736",
   "metadata": {},
   "outputs": [],
   "source": [
    "def tem_elementos_comuns(lista1, lista2):\n",
    "    set1= set(lista1)\n",
    "    set2= set(lista2)\n",
    "    if set1.intersection(set2):\n",
    "        return True\n",
    "    else:\n",
    "        return False"
   ]
  },
  {
   "cell_type": "code",
   "execution_count": 6,
   "id": "1022744a",
   "metadata": {},
   "outputs": [
    {
     "name": "stdout",
     "output_type": "stream",
     "text": [
      "True\n"
     ]
    }
   ],
   "source": [
    "lista1 = [1, 2, 3, 4]\n",
    "lista2 = [3, 4, 5, 6, 7]\n",
    "resultado = tem_elementos_comuns(lista1, lista2)\n",
    "print(resultado)"
   ]
  },
  {
   "cell_type": "markdown",
   "id": "649a5082",
   "metadata": {},
   "source": [
    "### Q3. \n",
    "\n",
    "Você vai coletar de diferentes turmas de alunos seus interesses em atividades extra curriculares dentre futebol, vôlei, rugby, música, teatro, ações comunitárias. Informe o conjunto de atividades comuns a todas a turmas. Pode preencher o iterável turmas com valores arbitrários. \n"
   ]
  },
  {
   "cell_type": "code",
   "execution_count": 7,
   "id": "880a9927",
   "metadata": {},
   "outputs": [
    {
     "name": "stdout",
     "output_type": "stream",
     "text": [
      "Atividades comuns a todas as turmas:\n",
      "['rugby']\n"
     ]
    }
   ],
   "source": [
    "turmas = [\n",
    "     {'ações comunitárias', 'futebol', 'música', 'rugby'},\n",
    "     {'ações comunitárias', 'música', 'rugby', 'teatro'},\n",
    "     {'música', 'rugby', 'teatro', 'vôlei'},\n",
    "     {'música', 'vôlei', 'rugby'},\n",
    "     {'ações comunitárias', 'futebol', 'rugby', 'teatro', 'vôlei'},\n",
    "     {'ações comunitárias', 'futebol', 'rugby'},\n",
    "     {'ações comunitárias', 'rugby', 'teatro', 'vôlei'},\n",
    "     {'ações comunitárias', 'rugby', 'teatro', 'vôlei'},\n",
    "     {'ações comunitárias', 'rugby', 'vôlei'}\n",
    "]\n",
    "atividades_comuns= turmas[0]\n",
    "\n",
    "for turma in turmas[1:]:\n",
    "    atividades_comuns= atividades_comuns.intersection(turma)\n",
    "\n",
    "atividades_comuns= list(atividades_comuns)\n",
    "print(\"Atividades comuns a todas as turmas:\")\n",
    "print(atividades_comuns)\n",
    "\n",
    "\n"
   ]
  },
  {
   "cell_type": "markdown",
   "id": "021e2b1e",
   "metadata": {},
   "source": [
    "### Q4. \n",
    "Considere duas listas que são duplicatas uma da outra, exceto por um elemento, exemplo:\n",
    "```\n",
    "A = [1, 4, 5, 7, 9]\n",
    "B = [4, 5, 7, 9]\n",
    "```\n",
    "\n",
    "Encontre e apresente o elemento diferente, informando também qual das listas está desfalcada. Para o exemplo acima, a saída esperada é\n",
    "```\n",
    "O elemento 1 está faltando na segunda lista\n",
    "```"
   ]
  },
  {
   "cell_type": "code",
   "execution_count": 12,
   "id": "608761a4",
   "metadata": {},
   "outputs": [
    {
     "name": "stdout",
     "output_type": "stream",
     "text": [
      "O elemento 4 está faltando na segunda lista\n"
     ]
    }
   ],
   "source": [
    "def encontrar_elemento(A, B):\n",
    "    set_A= set(A)\n",
    "    set_B= set(B)\n",
    "    elemento_faltando = list(set_A.symmetric_difference(set_B))[0]\n",
    "    if elemento_faltando in A:\n",
    "        lista_desfalcada=\"segunda\"\n",
    "    else:\n",
    "        lista_desfalcada=\"primeira\"\n",
    "    return f\"O elemento {elemento_faltando} está faltando na {lista_desfalcada} lista\"\n",
    "def pedir_listas_e_encontrar_elemento():\n",
    "    try:\n",
    "        lista1= input(\"Insira os elementos da primeira lista separados por espaço: \").strip().split()\n",
    "        A=list(map(int, lista1)) \n",
    "        lista2= input(\"Insira os elementos da segunda lista separados por espaço: \").strip().split()\n",
    "        B=list(map(int, lista2))  # Converte os elementos para inteiros\n",
    "        resultado= encontrar_elemento(A, B)\n",
    "        print(resultado)\n",
    "    except ValueError:\n",
    "        print(\"Erro: Certifique-se de inserir números inteiros separados por espaço.\")\n",
    "\n",
    "pedir_listas_e_encontrar_elemento()\n"
   ]
  },
  {
   "cell_type": "markdown",
   "id": "ddf180c1",
   "metadata": {},
   "source": [
    "### Q5.\n",
    "\n",
    "Panagramas são frases que contém todas as letras do alfabeto pelo menos uma vez. Crie uma função ```checa_panagrama``` que recebe uma string e retorna ```True``` caso seja um panagrama ou ```False```caso contrário. Use seu conhecimento de sets para solucionar essa questão.\n",
    "\n",
    "Ex: \n",
    "```\n",
    "Entrada: \"The quick brown fox jumps over the lazy dog\" \n",
    "Saída: É um panagrama\n",
    "```\n",
    "\n",
    "```\n",
    "Entrada: \"Python é uma linguagem de programação\" \n",
    "Saída: Não é um panagrama\n",
    "```"
   ]
  },
  {
   "cell_type": "code",
   "execution_count": 15,
   "id": "4e8b0390",
   "metadata": {},
   "outputs": [
    {
     "name": "stdout",
     "output_type": "stream",
     "text": [
      "Não é um panagrama\n"
     ]
    }
   ],
   "source": [
    "def checa_panagrama(frase):\n",
    "    frase=frase.lower()\n",
    "    letras_encontradas= set()\n",
    "    for char in frase:\n",
    "        if char.isalpha():\n",
    "            letras_encontradas.add(char)\n",
    "    alfabeto= set('abcdefghijklmnopqrstuvwxyz')\n",
    "    return letras_encontradas ==alfabeto\n",
    "\n",
    "def perguntar_e_verificar():\n",
    "    frase= input(\"Digite uma frase para verificar se é um pangrama: \")\n",
    "    if checa_panagrama(frase):\n",
    "        print('É um panagrama')\n",
    "    else:\n",
    "        print('Não é um panagrama')\n",
    "perguntar_e_verificar()\n"
   ]
  }
 ],
 "metadata": {
  "kernelspec": {
   "display_name": "Python 3 (ipykernel)",
   "language": "python",
   "name": "python3"
  },
  "language_info": {
   "codemirror_mode": {
    "name": "ipython",
    "version": 3
   },
   "file_extension": ".py",
   "mimetype": "text/x-python",
   "name": "python",
   "nbconvert_exporter": "python",
   "pygments_lexer": "ipython3",
   "version": "3.12.4"
  }
 },
 "nbformat": 4,
 "nbformat_minor": 5
}
