{
 "cells": [
  {
   "cell_type": "markdown",
   "id": "cbdff5a5",
   "metadata": {},
   "source": [
    "# Módulo 5 - Funções\n",
    "\n",
    "## Aulas 5.2 - Funções Customizadas e 5.4 Funções ```lambda```"
   ]
  },
  {
   "cell_type": "markdown",
   "id": "28a3fee2",
   "metadata": {},
   "source": [
    "### Q1.\n",
    "\n",
    "- Sabendo que o código a seguir calcula o fatorial de n, escreva uma função chamada ```fatorial()``` que recebe um inteiro ```n``` como parâmetro e retorna o resultado do fatorial de ```n```. \n",
    "- No programa principal, peça ao usuário o valor de ```n```, chame a sua função e imprima o retorno.\n",
    "\n",
    "```python\n",
    "fat = 1\n",
    "for i in range(1, n+1):\n",
    "    fat *= i \n",
    "```"
   ]
  },
  {
   "cell_type": "code",
   "execution_count": 18,
   "id": "d126b3a5",
   "metadata": {},
   "outputs": [],
   "source": [
    "def fatorial(n):\n",
    "    fat=1\n",
    "    for i in range(1,n+1):\n",
    "        fat *= i\n",
    "    return fat\n"
   ]
  },
  {
   "cell_type": "code",
   "execution_count": 20,
   "id": "6e4fe64e",
   "metadata": {},
   "outputs": [
    {
     "name": "stdout",
     "output_type": "stream",
     "text": [
      "O fatorial de 41 é 33452526613163807108170062053440751665152000000000.\n"
     ]
    }
   ],
   "source": [
    "n=int(input(\"Digite um número inteiro para calcular o fatorial: \"))\n",
    "resultado=fatorial(n)\n",
    "print(f\"O fatorial de {n} é {resultado}.\")"
   ]
  },
  {
   "cell_type": "markdown",
   "id": "c0a1f599",
   "metadata": {},
   "source": [
    "### Q2.\n",
    "\n",
    "- Escreva uma função em Python chamada ```soma_quadrados``` que recebe dois números como parâmetros e retorna a soma dos seus quadrados. \n",
    "- No programa principal solicite ao usuário que insira dois números e utilize a função para exibir a soma dos quadrados."
   ]
  },
  {
   "cell_type": "code",
   "execution_count": 13,
   "id": "6dbddaad",
   "metadata": {},
   "outputs": [],
   "source": [
    "def soma_quadrados(n1, n2):\n",
    "    quadrado1=n1**2\n",
    "    quadrado2=n2**2\n",
    "    soma=quadrado1+quadrado2\n",
    "    return soma"
   ]
  },
  {
   "cell_type": "code",
   "execution_count": 14,
   "id": "9175a7da",
   "metadata": {},
   "outputs": [
    {
     "name": "stdout",
     "output_type": "stream",
     "text": [
      "A soma dos quadrados de 2.0 e 3.0 é 13.0.\n"
     ]
    }
   ],
   "source": [
    "n1=float(input(\"Digite o primeiro número: \"))\n",
    "n2=float(input(\"Digite o segundo número: \"))\n",
    "\n",
    "resultado=soma_quadrados(n1, n2)\n",
    "print(f\"A soma dos quadrados de {n1} e {n2} é {resultado}.\")\n"
   ]
  },
  {
   "cell_type": "markdown",
   "id": "6ba34ce0",
   "metadata": {},
   "source": [
    "### Q3.\n",
    "\n",
    "- Crie uma função em Python chamada ```soma_digitos``` que recebe um número inteiro como parâmetro e retorna a soma dos seus dígitos. Por exemplo, para o número 123, a função deve retornar 6, $(1 + 2 + 3)$.\n",
    "    - O desafio aqui é separar os dígitos de um número inteiro usando operações aritméticas <br> <br>\n",
    "\n",
    "- No programa principal solicite ao usuário que insira um número e utilize a função ```soma_digitos``` para calcular e exibir a soma dos seus dígitos."
   ]
  },
  {
   "cell_type": "code",
   "execution_count": 15,
   "id": "34838ebf",
   "metadata": {},
   "outputs": [],
   "source": [
    "def soma_digitos(numero):\n",
    "    soma=0\n",
    "    while numero !=0:\n",
    "        ultimo_digito=numero%10\n",
    "        soma+=ultimo_digito\n",
    "        numero //= 10\n",
    "    return soma\n"
   ]
  },
  {
   "cell_type": "code",
   "execution_count": 17,
   "id": "27c35b21",
   "metadata": {},
   "outputs": [
    {
     "name": "stdout",
     "output_type": "stream",
     "text": [
      "A soma dos dígitos de 234 é 9.\n"
     ]
    }
   ],
   "source": [
    "numero = int(input(\"Digite um número inteiro para calcular a soma dos seus dígitos: \"))\n",
    "resultado = soma_digitos(numero)\n",
    "print(f\"A soma dos dígitos de {numero} é {resultado}.\")\n"
   ]
  },
  {
   "cell_type": "markdown",
   "id": "c318b159",
   "metadata": {},
   "source": [
    "### Q4.\n",
    "\n",
    "- Crie a função ```inverteValor()``` que recebe um inteiro de qualquer tamanho e retorna esse valor invertido usando apenas operações aritméticas\n",
    "- Crie a função ```verificaInverso()``` que recebe o valor original e o valor invertido e retorna verdadeiro se ambos forem igualmente par ou igualmente ímpar. Retorne falso caso contrário.\n",
    "- No programa principal, peça um valor do usuário e imprima o retorno de ambas as funções.\n"
   ]
  },
  {
   "cell_type": "code",
   "execution_count": 21,
   "id": "e4e47d1d",
   "metadata": {},
   "outputs": [],
   "source": [
    "def inverteValor(numero):\n",
    "    invertido=0\n",
    "    negativo=numero<0  \n",
    "    numero=abs(numero)\n",
    "    \n",
    "    while numero>0:\n",
    "        ultimo_digito=numero%10\n",
    "        invertido=invertido*10+ultimo_digito\n",
    "        numero //= 10\n",
    "    \n",
    "    if negativo:\n",
    "        invertido=-invertido\n",
    "    \n",
    "    return invertido\n",
    "\n",
    "def verificaInverso(original, invertido):\n",
    "    return (original%2==invertido%2)\n"
   ]
  },
  {
   "cell_type": "code",
   "execution_count": 23,
   "id": "a9514e56",
   "metadata": {},
   "outputs": [
    {
     "name": "stdout",
     "output_type": "stream",
     "text": [
      "Valor invertido: 2\n",
      "Os números 2 e 2 são igualmente par ou igualmente ímpar? True\n"
     ]
    }
   ],
   "source": [
    "numero=int(input(\"Digite um número inteiro: \"))\n",
    "\n",
    "invertido=inverteValor(numero)\n",
    "print(f\"Valor invertido: {invertido}\")\n",
    "\n",
    "resultado_verificacao=verificaInverso(numero, invertido)\n",
    "print(f\"Os números {numero} e {invertido} são igualmente par ou igualmente ímpar? {resultado_verificacao}\")\n"
   ]
  },
  {
   "cell_type": "markdown",
   "id": "329be966",
   "metadata": {},
   "source": [
    "### Q5.\n",
    "\n",
    "Você está desenvolvendo um programa para auxiliar em cálculos de geometria básica. Crie as seguintes funções:\n",
    "- A função ```calcula_perimetro_triangulo()``` que recebe três inteiros correspondentes aos lados de um triângulo e retorna o perímetro do triângulo, ou seja, a soma dos seus lados.\n",
    "- A função ```calcula_perimetro_circulo()``` que recebe um inteiro referente ao raio do círculo e retorna o perímetro do círculo, dado por $2 \\pi r$. Use a constante $\\pi$ da biblioteca ```math```.\n",
    "- A função ```calcula_perimetro_retangulo()``` que possui um parâmetro obrigatório ```lado1``` e um opcional ```lado2```, ambos inteiros. Se o valor opcional não for fornecido, significa que se trata de um quadrado. Sua função deve calcular e retornar o perímetro do retângulo, ou seja, a soma de seus lados. \n",
    "    - Para o quadrado, é dado por $4 \\times lado1$\n",
    "    - Para o retângulo é dado por $2 \\times lado1 + 2 \\times lado2$\n",
    "    \n",
    "- No programa principal apresente um menu com as opções disponíveis do seu sistema e uma quarta opção ```Sair```. Solicite ao usuário a opção desejada, solicite as entradas correspondentes à opção escolhida, invoque a respective função e apresente o seu retorno. Seu programa deve retornar ao menu até que o usuário escolha a opção ```Sair```\n",
    "\n",
    "Exemplo de interação:\n",
    "```\n",
    "1 - Calcular perímetro triângulo\n",
    "2 - Calcular perímetro círculo\n",
    "3 - Calcular perímetro retângulo\n",
    "4 - Sair\n",
    "\n",
    "Opção: 1\n",
    "Digite os três lados do triângulo:\n",
    "3\n",
    "4\n",
    "5\n",
    "O perímetro é: 12\n",
    "\n",
    "1 - Calcular perímetro triângulo\n",
    "2 - Calcular perímetro círculo\n",
    "3 - Calcular perímetro retângulo\n",
    "4 - Sair\n",
    "\n",
    "Opção: 3\n",
    "Informe os dois lados do retângulo. Se for um quadrado, digite 0 para o segundo valor:\n",
    "5\n",
    "0\n",
    "O perímetro é: 20\n",
    "\n",
    "1 - Calcular perímetro triângulo\n",
    "2 - Calcular perímetro círculo\n",
    "3 - Calcular perímetro retângulo\n",
    "4 - Sair\n",
    "\n",
    "Opção: 4\n",
    "```"
   ]
  },
  {
   "cell_type": "code",
   "execution_count": 2,
   "id": "0793d328",
   "metadata": {},
   "outputs": [],
   "source": [
    "def calcula_triangulo(lado1, lado2, lado3):\n",
    "    return lado1 + lado2 + lado3\n",
    "import math\n",
    "\n",
    "def calcula_circulo(raio):\n",
    "    return 2 * math.pi * raio\n",
    "def calcula_retangulo(lado1, lado2=None):\n",
    "    if lado2 is None:\n",
    "        return 4 * lado1  # É um quadrado\n",
    "    else:\n",
    "        return 2 * (lado1 + lado2)  # É um retângulo\n"
   ]
  },
  {
   "cell_type": "code",
   "execution_count": 4,
   "id": "36269c71",
   "metadata": {},
   "outputs": [
    {
     "name": "stdout",
     "output_type": "stream",
     "text": [
      "Escolha uma opção:\n",
      "1 - Calcular perímetro de um triângulo\n",
      "2 - Calcular perímetro de um círculo\n",
      "3 - Calcular perímetro de um retângulo/quadrado\n",
      "4 - Sair\n"
     ]
    },
    {
     "ename": "ValueError",
     "evalue": "invalid literal for int() with base 10: 'quadrado'",
     "output_type": "error",
     "traceback": [
      "\u001b[1;31m---------------------------------------------------------------------------\u001b[0m",
      "\u001b[1;31mValueError\u001b[0m                                Traceback (most recent call last)",
      "Cell \u001b[1;32mIn[4], line 22\u001b[0m\n\u001b[0;32m     20\u001b[0m     \u001b[38;5;28mprint\u001b[39m(\u001b[38;5;124mf\u001b[39m\u001b[38;5;124m\"\u001b[39m\u001b[38;5;124mO perímetro do círculo é: \u001b[39m\u001b[38;5;132;01m{\u001b[39;00mperimetro\u001b[38;5;132;01m}\u001b[39;00m\u001b[38;5;124m\"\u001b[39m)\n\u001b[0;32m     21\u001b[0m \u001b[38;5;28;01melif\u001b[39;00m opcao \u001b[38;5;241m==\u001b[39m \u001b[38;5;124m'\u001b[39m\u001b[38;5;124m3\u001b[39m\u001b[38;5;124m'\u001b[39m:\n\u001b[1;32m---> 22\u001b[0m     lado1 \u001b[38;5;241m=\u001b[39m \u001b[38;5;28;43mint\u001b[39;49m\u001b[43m(\u001b[49m\u001b[38;5;28;43minput\u001b[39;49m\u001b[43m(\u001b[49m\u001b[38;5;124;43m\"\u001b[39;49m\u001b[38;5;124;43mDigite o primeiro lado do retângulo/quadrado: \u001b[39;49m\u001b[38;5;124;43m\"\u001b[39;49m\u001b[43m)\u001b[49m\u001b[43m)\u001b[49m\n\u001b[0;32m     23\u001b[0m     tipo \u001b[38;5;241m=\u001b[39m \u001b[38;5;28minput\u001b[39m(\u001b[38;5;124m\"\u001b[39m\u001b[38;5;124mDigite \u001b[39m\u001b[38;5;124m'\u001b[39m\u001b[38;5;124mq\u001b[39m\u001b[38;5;124m'\u001b[39m\u001b[38;5;124m para quadrado ou \u001b[39m\u001b[38;5;124m'\u001b[39m\u001b[38;5;124mr\u001b[39m\u001b[38;5;124m'\u001b[39m\u001b[38;5;124m para retângulo: \u001b[39m\u001b[38;5;124m\"\u001b[39m)\n\u001b[0;32m     24\u001b[0m     \u001b[38;5;28;01mif\u001b[39;00m tipo \u001b[38;5;241m==\u001b[39m \u001b[38;5;124m'\u001b[39m\u001b[38;5;124mq\u001b[39m\u001b[38;5;124m'\u001b[39m:\n",
      "\u001b[1;31mValueError\u001b[0m: invalid literal for int() with base 10: 'quadrado'"
     ]
    }
   ],
   "source": [
    "def exibir_menu():\n",
    "    print(\"Escolha uma opção:\")\n",
    "    print(\"1 - Calcular perímetro de um triângulo\")\n",
    "    print(\"2 - Calcular perímetro de um círculo\")\n",
    "    print(\"3 - Calcular perímetro de um retângulo/quadrado\")\n",
    "    print(\"4 - Sair\")\n",
    "while True:\n",
    "    exibir_menu()\n",
    "    opcao = input(\"Digite o número da opção desejada: \")\n",
    "    \n",
    "    if opcao == '1':\n",
    "        lado1 = int(input(\"Digite o primeiro lado do triângulo: \"))\n",
    "        lado2 = int(input(\"Digite o segundo lado do triângulo: \"))\n",
    "        lado3 = int(input(\"Digite o terceiro lado do triângulo: \"))\n",
    "        perimetro = calcula_triangulo(lado1, lado2, lado3)\n",
    "        print(f\"O perímetro do triângulo é: {perimetro}\")\n",
    "    elif opcao == '2':\n",
    "        raio = int(input(\"Digite o raio do círculo: \"))\n",
    "        perimetro = calcula_circulo(raio)\n",
    "        print(f\"O perímetro do círculo é: {perimetro}\")\n",
    "    elif opcao == '3':\n",
    "        lado1 = int(input(\"Digite o primeiro lado do retângulo/quadrado: \"))\n",
    "        tipo = input(\"Digite 'q' para quadrado ou 'r' para retângulo: \")\n",
    "        if tipo == 'q':\n",
    "            perimetro = calcula_retangulo(lado1)\n",
    "            print(f\"O perímetro do quadrado é: {perimetro}\")\n",
    "        elif tipo == 'r':\n",
    "            lado2 = int(input(\"Digite o segundo lado do retângulo: \"))\n",
    "            perimetro = calcula_retangulo(lado1, lado2)\n",
    "            print(f\"O perímetro do retângulo é: {perimetro}\")\n",
    "    elif opcao == '4':\n",
    "        print(\"Encerrando o programa...\")\n",
    "        break\n",
    "    else:\n",
    "        print(\"Opção inválida. Por favor, escolha uma opção válida.\")\n"
   ]
  },
  {
   "cell_type": "markdown",
   "id": "3016bcc7",
   "metadata": {},
   "source": [
    "## Funções ```lambda```"
   ]
  },
  {
   "cell_type": "markdown",
   "id": "f9cdb8dd",
   "metadata": {},
   "source": [
    "### Q6.\n",
    "\n",
    "Crie uma função lambda para verificar se um número é par ou ímpar. Em seguida, solicite ao usuário um número indefinidos de valores (até que o usuário digite 0). Para cada valor de entrada, informe se é par ou ímpar.\n",
    "\n",
    "Exemplo de interação:\n",
    "```\n",
    "Digite os valores que deseja verificar a paridade (digite 0 para finalizar a entrada de dados):\n",
    "3\n",
    "ímpar\n",
    "8\n",
    "par\n",
    "12\n",
    "par\n",
    "5\n",
    "ímpar\n",
    "7ímpar\n",
    "```"
   ]
  },
  {
   "cell_type": "code",
   "execution_count": 2,
   "id": "e3c31a78",
   "metadata": {},
   "outputs": [
    {
     "name": "stdout",
     "output_type": "stream",
     "text": [
      "Digite os números de entrada. Digite 0 para finalizar.\n",
      "O número 4 é par.\n"
     ]
    }
   ],
   "source": [
    "par_impar = lambda x: \"par\" if x % 2 == 0 else \"ímpar\"\n",
    "\n",
    "def main():\n",
    "    print(\"Digite os números de entrada. Digite 0 para finalizar.\")\n",
    "    \n",
    "    while True:\n",
    "        numero = int(input(\"Número: \"))\n",
    "        \n",
    "        if numero == 0:\n",
    "            break\n",
    "        \n",
    "        resultado = par_impar(numero)\n",
    "        print(f\"O número {numero} é {resultado}.\")\n",
    "\n",
    "if __name__ == \"__main__\":\n",
    "    main()"
   ]
  },
  {
   "cell_type": "markdown",
   "id": "5a87474d",
   "metadata": {},
   "source": [
    "### Q7.\n",
    "\n",
    "Escreva um programa que pergunte ao usuário qual operação ele deseja: maior ou menor.\n",
    "Em seguida leia uma quantidade indefinida de valores do usuário, até que o usuário digite o valor zero.\n",
    "Apresente ao final o maior ou menor dos valores digitados de acordo com a escolha do usuário.\n",
    "\n",
    "**Sua solução deve incluir pelo menos uma função ```lambda```** \n",
    "\n",
    "Exemplo de interação:\n",
    "```\n",
    "Opções: (1) maior ou (2) menor?\n",
    "Opção: 1\n",
    "\n",
    "Digite os valores de entrada. Digite 0 para finalizar a entrada de valores.\n",
    "4\n",
    "12\n",
    "15\n",
    "1\n",
    "0\n",
    "\n",
    "O maior valor é: 15\n",
    "```"
   ]
  },
  {
   "cell_type": "code",
   "execution_count": 4,
   "id": "ee3f68ca",
   "metadata": {},
   "outputs": [
    {
     "name": "stdout",
     "output_type": "stream",
     "text": [
      "Opções: (1) maior ou (2) menor?\n",
      "Digite os valores de entrada. Digite 0 para finalizar a entrada de valores.\n",
      "O menor valor é: 2.0\n"
     ]
    }
   ],
   "source": [
    "def encontrar_extremo(valores, operacao):\n",
    "    if operacao == 'maior':\n",
    "        return max(valores, key=lambda x: x if x != 0 else float('-inf'))\n",
    "    elif operacao == 'menor':\n",
    "        return min(valores, key=lambda x: x if x != 0 else float('inf'))\n",
    "    else:\n",
    "        return None\n",
    "\n",
    "def main():\n",
    "    opcoes = {\n",
    "        '1': 'maior',\n",
    "        '2': 'menor'\n",
    "    }\n",
    "    \n",
    "    print(\"Opções: (1) maior ou (2) menor?\")\n",
    "    opcao = input(\"Opção: \")\n",
    "    \n",
    "    if opcao not in opcoes:\n",
    "        print(\"Opção inválida.\")\n",
    "        return\n",
    "    \n",
    "    operacao = opcoes[opcao]\n",
    "    valores = []\n",
    "    \n",
    "    print(\"Digite os valores de entrada. Digite 0 para finalizar a entrada de valores.\")\n",
    "    \n",
    "    while True:\n",
    "        valor = float(input())\n",
    "        if valor == 0:\n",
    "            break\n",
    "        valores.append(valor)\n",
    "    \n",
    "    if not valores:\n",
    "        print(\"Nenhum valor foi inserido.\")\n",
    "        return\n",
    "    \n",
    "    resultado = encontrar_extremo(valores, operacao)\n",
    "    \n",
    "    if resultado is not None:\n",
    "        print(f\"O {operacao} valor é: {resultado}\")\n",
    "\n",
    "if __name__ == \"__main__\":\n",
    "    main()\n"
   ]
  }
 ],
 "metadata": {
  "kernelspec": {
   "display_name": "Python 3 (ipykernel)",
   "language": "python",
   "name": "python3"
  },
  "language_info": {
   "codemirror_mode": {
    "name": "ipython",
    "version": 3
   },
   "file_extension": ".py",
   "mimetype": "text/x-python",
   "name": "python",
   "nbconvert_exporter": "python",
   "pygments_lexer": "ipython3",
   "version": "3.12.4"
  }
 },
 "nbformat": 4,
 "nbformat_minor": 5
}
