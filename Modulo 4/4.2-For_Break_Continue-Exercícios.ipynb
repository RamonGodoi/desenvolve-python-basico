{
 "cells": [
  {
   "cell_type": "markdown",
   "id": "29e89030",
   "metadata": {},
   "source": [
    "# Módulo 4 - Repetições\n",
    "\n",
    "## Aulas 4.2 - Comando ```for``` e 4.3 Break e Continue"
   ]
  },
  {
   "cell_type": "markdown",
   "id": "a45b42df",
   "metadata": {},
   "source": [
    "### Q1.\n",
    "\n",
    "Crie um programa em Python que utilize o comando for para imprimir os números de 10 a 1, em ordem decrescente."
   ]
  },
  {
   "cell_type": "code",
   "execution_count": 13,
   "id": "55a75b3d",
   "metadata": {},
   "outputs": [
    {
     "name": "stdout",
     "output_type": "stream",
     "text": [
      "10\n",
      "9\n",
      "8\n",
      "7\n",
      "6\n",
      "5\n",
      "4\n",
      "3\n",
      "2\n",
      "1\n"
     ]
    }
   ],
   "source": [
    "for num in range(10, 0, -1):\n",
    "    print(num)\n",
    "\n"
   ]
  },
  {
   "cell_type": "markdown",
   "id": "94b47c36",
   "metadata": {},
   "source": [
    "### Q2.\n",
    "\n",
    "Dado um número inteiro positivo informado pelo usuário, crie um programa em Python que utilize o comando for para calcular e exibir a soma dos números de 1 até o número informado. Ou seja, $1 + 2 + 3 + ... + n$\n",
    "\n",
    "Exemplo de interação:\n",
    "```\n",
    "Digite um número: 5\n",
    "A soma dos números de 1 a 5 é 15\n",
    "```\n"
   ]
  },
  {
   "cell_type": "code",
   "execution_count": 10,
   "id": "45b71596",
   "metadata": {},
   "outputs": [
    {
     "name": "stdout",
     "output_type": "stream",
     "text": [
      "A soma dos números de 1 até 9 é: 45\n"
     ]
    }
   ],
   "source": [
    "numero = int(input(\"Digite um número inteiro positivo: \"))\n",
    "soma = 0\n",
    "for i in range(1, numero + 1):\n",
    "    soma += i\n",
    "print(f\"A soma dos números de 1 até {numero} é: {soma}\")\n",
    "\n"
   ]
  },
  {
   "cell_type": "markdown",
   "id": "0411d170",
   "metadata": {},
   "source": [
    "### Q3.\n",
    "\n",
    "Escreva um programa que lê 10 valores inteiros positivos do usuário e ao final imprime a média dos valores digitados com duas casas decimais.\n",
    "\n",
    "```\n",
    "Digite 10 números positivos:\n",
    "3\n",
    "2\n",
    "12\n",
    "14\n",
    "20\n",
    "42\n",
    "19\n",
    "0\n",
    "8\n",
    "1\n",
    "A média dos valores digitados é 12.10\n",
    "```"
   ]
  },
  {
   "cell_type": "code",
   "execution_count": 16,
   "id": "3f72f358",
   "metadata": {},
   "outputs": [
    {
     "name": "stdout",
     "output_type": "stream",
     "text": [
      "A média dos valores digitados é 5.0\n"
     ]
    }
   ],
   "source": [
    "quantidade=10\n",
    "n1, n2, n3, n4, n5, n6, n7, n8, n9, n10 = 0, 0, 0, 0, 0, 0, 0, 0, 0, 0\n",
    "for numeros in range(quantidade):\n",
    "    n1=int(input(\"digite o primeiro número inteiro positivo: \"))\n",
    "    n2=int(input(\"digite o segundo número inteiro positivo: \"))\n",
    "    n3=int(input(\"digite o terceiro inteiro positivo: \"))\n",
    "    n4=int(input(\"digite o quarto inteiro positivo: \"))\n",
    "    n5=int(input(\"digite o quinto inteiro positivo: \"))\n",
    "    n6=int(input(\"digite o sexto inteiro positivo: \"))\n",
    "    n7=int(input(\"digite o setimo inteiro positivo: \"))\n",
    "    n8=int(input(\"digite o oitavo inteiro positivo: \"))\n",
    "    n9=int(input(\"digite o nono inteiro positivo: \"))\n",
    "    n10=int(input(\"digite o décimo inteiro positivo: \"))\n",
    "    break\n",
    "soma=n1+n2+n3+n4+n5+n6+n7+n8+n9+n10\n",
    "print(f\"A média dos valores digitados é {soma/quantidade}\")"
   ]
  },
  {
   "cell_type": "markdown",
   "id": "d62e27ff",
   "metadata": {},
   "source": [
    "### Q4.\n",
    "\n",
    "Você vai criar um sistema que registra os resultados dos jogos do Atlético MG ao longo de um campeonato. Seu sistema vai receber os resultados de todos os jogos do Galo, e deve calcular a pontuação do time sabendo que vitórias valem 3 pontos, empates 1 ponto e derrotas 0 pontos.\n",
    "\n",
    "Entrada: <br>\n",
    "A primeira linha de entrada é um inteiro N com a quantidade jogos do galo. Para cada jogo você deve ler 2 inteiros, o primeiro com a quantidade de gols do galo e o segundo com a quantidade de gols do time oponente. \n",
    "\n",
    "Saída: <br>\n",
    "Apresente a soma de vitórias, empates e derrotas do galo, junto com o cálculo da pontuação total.\n",
    "\n",
    "Ex:\n",
    "```\n",
    "Entrada:\n",
    "4\n",
    "2\n",
    "0\n",
    "1\n",
    "1\n",
    "0\n",
    "3\n",
    "1\n",
    "0\n",
    "\n",
    "Saída:\n",
    "Vitórias: 2\n",
    "Empates: 1\n",
    "Derrotas: 1\n",
    "Pontuação: 7\n",
    "\n",
    "```\n",
    "\n",
    "\n"
   ]
  },
  {
   "cell_type": "code",
   "execution_count": 8,
   "id": "d3fdfc2a",
   "metadata": {},
   "outputs": [
    {
     "name": "stdout",
     "output_type": "stream",
     "text": [
      "Total de vitorias:  0\n",
      "Total de empates:  2\n",
      "Total de derrotas:  0\n",
      "Pontuação : 2\n"
     ]
    }
   ],
   "source": [
    "n_jogos=int(input(\"Quantidade de jogos: \"))\n",
    "soma_vitoria,soma_empates,soma_derrota=0,0,0\n",
    "for jogos in range(n_jogos):\n",
    "    gols_galo=int(input(f\"Quantidade de gols do galo no jogo {jogos}: \"))\n",
    "    gols_op=int(input(f\"Quantidade de gols do oponentes {jogos}: \"))\n",
    "\n",
    "    if gols_galo>gols_op:\n",
    "        soma_vitoria+=1\n",
    "    elif gols_galo<gols_op:\n",
    "        soma_derrota+=1\n",
    "    else:\n",
    "        soma_empates+=1\n",
    "\n",
    "print(\"Total de vitorias: \", soma_vitoria)\n",
    "print(\"Total de empates: \", soma_empates)\n",
    "print(\"Total de derrotas: \", soma_derrota)\n",
    "print(\"Pontuação :\", 3*soma_vitoria+soma_empates)"
   ]
  },
  {
   "cell_type": "markdown",
   "id": "fc98604d",
   "metadata": {},
   "source": [
    "### Q5.\n",
    "\n",
    "Faça um programa que lê dois inteiros N e M, e imprime na tela um campo de batalha naval. O tabuleiro deve possuir N linhas e M colunas. A primeira linha é composta por um espaço em branco e o cabeçalho das colunas, ou seja, valores de 1 a M. As N linhas seguintes iniciam com o cabeçalho da linha, ou seja, seu número, seguido de M caracteres \"/\" (barra) indicando uma possível posição jogável. \n",
    "\n",
    "```\n",
    "Entrada:\n",
    "5\n",
    "4\n",
    "\n",
    "Saída:\n",
    "  1 2 3 4 \n",
    "1 / / / / \n",
    "2 / / / / \n",
    "3 / / / / \n",
    "4 / / / / \n",
    "5 / / / / \n",
    "```\n",
    "\n",
    "Para esse exercício, precisamos lembrar que o comando print implicitamente adiciona uma quebra de linha ao final da impressão. Podemos interferir no final da impressão adicionando mais uma entrada ao print. No exemplo, finalizamos cada linha com um espaço em branco:\n",
    "```python\n",
    "print(\"Texto qualquer\", end = \" \")\n",
    "```"
   ]
  },
  {
   "cell_type": "code",
   "execution_count": 7,
   "id": "a60ef197",
   "metadata": {},
   "outputs": [
    {
     "name": "stdout",
     "output_type": "stream",
     "text": [
      "  1 2 3 4 5 \n",
      "1 / / / / / \n",
      "2 / / / / / \n",
      "3 / / / / / \n",
      "4 / / / / / \n",
      "5 / / / / / \n"
     ]
    }
   ],
   "source": [
    "N=int(input(\"Digite o número de linhas (N): \"))\n",
    "M=int(input(\"Digite o número de colunas (M): \"))\n",
    "print(\" \",end=\" \")\n",
    "for j in range(1, M + 1):\n",
    "    print(j,end=\" \")\n",
    "print()\n",
    "for i in range(1,N+1):\n",
    "    print(i,end=\" \") \n",
    "    for j in range(1, M + 1):\n",
    "        print(\"/\",end=\" \")\n",
    "    print()\n"
   ]
  },
  {
   "cell_type": "markdown",
   "id": "4654dc0b",
   "metadata": {},
   "source": [
    "---\n",
    "## Break e Continue"
   ]
  },
  {
   "cell_type": "markdown",
   "id": "24fe9d85",
   "metadata": {},
   "source": [
    "### Q6.\n",
    "\n",
    "Escreva um programa que lê uma quantidade indefinida de valores e informa o maior e o menor valor digitados. A leitura é encerrada quando o usuário digitar o valor 0 (zero).\n",
    "\n",
    "```\n",
    "Entrada:\n",
    "12\n",
    "-1\n",
    "29\n",
    "11\n",
    "-5\n",
    "0\n",
    "\n",
    "Saída:\n",
    "Maior: 29\n",
    "Menor: -5\n",
    "```"
   ]
  },
  {
   "cell_type": "code",
   "execution_count": 6,
   "id": "ee1c466a",
   "metadata": {},
   "outputs": [
    {
     "name": "stdout",
     "output_type": "stream",
     "text": [
      "O maior valor é 90\n",
      "O menor valor é -90\n"
     ]
    }
   ],
   "source": [
    "maior=float(\"-inf\")\n",
    "menor=float(\"inf\")\n",
    "while True:\n",
    "    n=int(input(\"Digite um numero: \"))\n",
    "    if n==0: break\n",
    "    \n",
    "    if n>maior:\n",
    "        maior=n\n",
    "    if n<menor:\n",
    "        menor=n\n",
    "\n",
    "print(f\"O maior valor é {maior}\")\n",
    "print(f\"O menor valor é {menor}\")"
   ]
  },
  {
   "cell_type": "markdown",
   "id": "30d486f7",
   "metadata": {},
   "source": [
    "### Q7.\n",
    "\n",
    "Escreva um programa que lê uma quantidade indefinida de valores e informa o **produto** dos valores positivos digitados. A leitura é encerrada quando o usuário digitar o valor 0 (zero).\n",
    "\n",
    "```\n",
    "Entrada:\n",
    "2\n",
    "-1\n",
    "1\n",
    "3\n",
    "-5\n",
    "0\n",
    "\n",
    "Saída:\n",
    "Produto: 6\n",
    "```"
   ]
  },
  {
   "cell_type": "code",
   "execution_count": 18,
   "id": "2f1ac324",
   "metadata": {},
   "outputs": [
    {
     "name": "stdout",
     "output_type": "stream",
     "text": [
      "O poduto dos positivos: 20\n"
     ]
    }
   ],
   "source": [
    "produto=1\n",
    "while True:\n",
    "    n=int(input(\"Digite um numero: \"))\n",
    "    if n==0: break\n",
    "    if n<0:continue\n",
    "    \n",
    "    produto=produto*n\n",
    "\n",
    "print(f\"O poduto dos positivos: {produto}\")\n",
    "\n"
   ]
  },
  {
   "cell_type": "markdown",
   "id": "e932f3cf",
   "metadata": {},
   "source": [
    "### Q8.\n",
    "\n",
    "Vamos fazer uma calculadora que aceita expressões aritméticas de qualquer tamanho até que o usuário digite a palavra \"Fim\". Sua calculadora executa apenas as operações \"+\", \"-\".\n",
    "\n",
    "```\n",
    "Entrada:\n",
    "5\n",
    "+\n",
    "8\n",
    "-\n",
    "3\n",
    "+\n",
    "2\n",
    "Fim\n",
    "\n",
    "Saída:\n",
    "12\n",
    "```"
   ]
  },
  {
   "cell_type": "code",
   "execution_count": 38,
   "id": "e835d870",
   "metadata": {},
   "outputs": [
    {
     "name": "stdout",
     "output_type": "stream",
     "text": [
      "O resultado é: 6.0\n"
     ]
    }
   ],
   "source": [
    "resultado=0\n",
    "while True:\n",
    "    n1 = float(input(\"Digite um número : \"))\n",
    "    operador = input(\"Digite um operador (+ ou -) ou ('fim' para encerrar): \")\n",
    "    if operador == \"fim\":\n",
    "        break  \n",
    "    n2 = float(input(\"Digite outro número: \"))\n",
    "    if operador==\"+\":\n",
    "        resultado=n1+n2+resultado\n",
    "    if operador ==\"-\":\n",
    "        resultado=n1-n2+resultado\n",
    "print(f\"O resultado é: {resultado}\")"
   ]
  }
 ],
 "metadata": {
  "kernelspec": {
   "display_name": "Python 3 (ipykernel)",
   "language": "python",
   "name": "python3"
  },
  "language_info": {
   "codemirror_mode": {
    "name": "ipython",
    "version": 3
   },
   "file_extension": ".py",
   "mimetype": "text/x-python",
   "name": "python",
   "nbconvert_exporter": "python",
   "pygments_lexer": "ipython3",
   "version": "3.12.4"
  }
 },
 "nbformat": 4,
 "nbformat_minor": 5
}
